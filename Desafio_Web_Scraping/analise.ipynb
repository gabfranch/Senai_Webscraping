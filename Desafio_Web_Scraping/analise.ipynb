{
 "cells": [
  {
   "cell_type": "code",
   "execution_count": 328,
   "metadata": {},
   "outputs": [
    {
     "data": {
      "text/html": [
       "<div>\n",
       "<style scoped>\n",
       "    .dataframe tbody tr th:only-of-type {\n",
       "        vertical-align: middle;\n",
       "    }\n",
       "\n",
       "    .dataframe tbody tr th {\n",
       "        vertical-align: top;\n",
       "    }\n",
       "\n",
       "    .dataframe thead th {\n",
       "        text-align: right;\n",
       "    }\n",
       "</style>\n",
       "<table border=\"1\" class=\"dataframe\">\n",
       "  <thead>\n",
       "    <tr style=\"text-align: right;\">\n",
       "      <th></th>\n",
       "      <th>metragem</th>\n",
       "      <th>quartos</th>\n",
       "      <th>banheiros</th>\n",
       "      <th>vagas</th>\n",
       "      <th>valor</th>\n",
       "      <th>iptu</th>\n",
       "      <th>condominio</th>\n",
       "      <th>nome_rua</th>\n",
       "    </tr>\n",
       "  </thead>\n",
       "  <tbody>\n",
       "    <tr>\n",
       "      <th>0</th>\n",
       "      <td>52</td>\n",
       "      <td>2.0</td>\n",
       "      <td>1.0</td>\n",
       "      <td>2.0</td>\n",
       "      <td>270000</td>\n",
       "      <td>85.0</td>\n",
       "      <td>380.0</td>\n",
       "      <td>Rua Ítalo Bordini</td>\n",
       "    </tr>\n",
       "    <tr>\n",
       "      <th>1</th>\n",
       "      <td>604</td>\n",
       "      <td>4.0</td>\n",
       "      <td>7.0</td>\n",
       "      <td>3.0</td>\n",
       "      <td>11800000</td>\n",
       "      <td>873.0</td>\n",
       "      <td>1659.0</td>\n",
       "      <td>Alameda Mamoré</td>\n",
       "    </tr>\n",
       "    <tr>\n",
       "      <th>2</th>\n",
       "      <td>60</td>\n",
       "      <td>2.0</td>\n",
       "      <td>2.0</td>\n",
       "      <td>1.0</td>\n",
       "      <td>395000</td>\n",
       "      <td>130.0</td>\n",
       "      <td>120.0</td>\n",
       "      <td>Rua Marília</td>\n",
       "    </tr>\n",
       "    <tr>\n",
       "      <th>3</th>\n",
       "      <td>69</td>\n",
       "      <td>2.0</td>\n",
       "      <td>1.0</td>\n",
       "      <td>1.0</td>\n",
       "      <td>450000</td>\n",
       "      <td>NaN</td>\n",
       "      <td>NaN</td>\n",
       "      <td>NaN</td>\n",
       "    </tr>\n",
       "    <tr>\n",
       "      <th>4</th>\n",
       "      <td>75</td>\n",
       "      <td>NaN</td>\n",
       "      <td>1.0</td>\n",
       "      <td>2.0</td>\n",
       "      <td>350000</td>\n",
       "      <td>NaN</td>\n",
       "      <td>NaN</td>\n",
       "      <td>Avenida Valentim Magalhães</td>\n",
       "    </tr>\n",
       "    <tr>\n",
       "      <th>...</th>\n",
       "      <td>...</td>\n",
       "      <td>...</td>\n",
       "      <td>...</td>\n",
       "      <td>...</td>\n",
       "      <td>...</td>\n",
       "      <td>...</td>\n",
       "      <td>...</td>\n",
       "      <td>...</td>\n",
       "    </tr>\n",
       "    <tr>\n",
       "      <th>95</th>\n",
       "      <td>58</td>\n",
       "      <td>2.0</td>\n",
       "      <td>1.0</td>\n",
       "      <td>1.0</td>\n",
       "      <td>180000</td>\n",
       "      <td>NaN</td>\n",
       "      <td>234.0</td>\n",
       "      <td>Rua Gladstone de Abreu Cardoso</td>\n",
       "    </tr>\n",
       "    <tr>\n",
       "      <th>96</th>\n",
       "      <td>139</td>\n",
       "      <td>3.0</td>\n",
       "      <td>3.0</td>\n",
       "      <td>NaN</td>\n",
       "      <td>305000</td>\n",
       "      <td>NaN</td>\n",
       "      <td>NaN</td>\n",
       "      <td>Rua Jussara</td>\n",
       "    </tr>\n",
       "    <tr>\n",
       "      <th>97</th>\n",
       "      <td>62</td>\n",
       "      <td>3.0</td>\n",
       "      <td>2.0</td>\n",
       "      <td>2.0</td>\n",
       "      <td>295000</td>\n",
       "      <td>57.0</td>\n",
       "      <td>560.0</td>\n",
       "      <td>Rua Professora Edina Rocha de Freitas</td>\n",
       "    </tr>\n",
       "    <tr>\n",
       "      <th>98</th>\n",
       "      <td>250</td>\n",
       "      <td>NaN</td>\n",
       "      <td>NaN</td>\n",
       "      <td>NaN</td>\n",
       "      <td>160000</td>\n",
       "      <td>NaN</td>\n",
       "      <td>NaN</td>\n",
       "      <td>Rua Gilda Willemsens Conceição</td>\n",
       "    </tr>\n",
       "    <tr>\n",
       "      <th>99</th>\n",
       "      <td>90</td>\n",
       "      <td>3.0</td>\n",
       "      <td>2.0</td>\n",
       "      <td>2.0</td>\n",
       "      <td>540000</td>\n",
       "      <td>NaN</td>\n",
       "      <td>NaN</td>\n",
       "      <td>Rua Araci</td>\n",
       "    </tr>\n",
       "  </tbody>\n",
       "</table>\n",
       "<p>100 rows × 8 columns</p>\n",
       "</div>"
      ],
      "text/plain": [
       "    metragem  quartos  banheiros  vagas     valor   iptu  condominio  \\\n",
       "0         52      2.0        1.0    2.0    270000   85.0       380.0   \n",
       "1        604      4.0        7.0    3.0  11800000  873.0      1659.0   \n",
       "2         60      2.0        2.0    1.0    395000  130.0       120.0   \n",
       "3         69      2.0        1.0    1.0    450000    NaN         NaN   \n",
       "4         75      NaN        1.0    2.0    350000    NaN         NaN   \n",
       "..       ...      ...        ...    ...       ...    ...         ...   \n",
       "95        58      2.0        1.0    1.0    180000    NaN       234.0   \n",
       "96       139      3.0        3.0    NaN    305000    NaN         NaN   \n",
       "97        62      3.0        2.0    2.0    295000   57.0       560.0   \n",
       "98       250      NaN        NaN    NaN    160000    NaN         NaN   \n",
       "99        90      3.0        2.0    2.0    540000    NaN         NaN   \n",
       "\n",
       "                                 nome_rua  \n",
       "0                       Rua Ítalo Bordini  \n",
       "1                          Alameda Mamoré  \n",
       "2                             Rua Marília  \n",
       "3                                     NaN  \n",
       "4              Avenida Valentim Magalhães  \n",
       "..                                    ...  \n",
       "95         Rua Gladstone de Abreu Cardoso  \n",
       "96                            Rua Jussara  \n",
       "97  Rua Professora Edina Rocha de Freitas  \n",
       "98         Rua Gilda Willemsens Conceição  \n",
       "99                              Rua Araci  \n",
       "\n",
       "[100 rows x 8 columns]"
      ]
     },
     "execution_count": 328,
     "metadata": {},
     "output_type": "execute_result"
    }
   ],
   "source": [
    "import pandas as pd\n",
    "import numpy as np\n",
    "\n",
    "df = pd.read_excel('imoveis_vivareal_tratado.xlsx')\n",
    "df"
   ]
  },
  {
   "cell_type": "code",
   "execution_count": 329,
   "metadata": {},
   "outputs": [
    {
     "data": {
      "text/plain": [
       "np.float64(136.23)"
      ]
     },
     "execution_count": 329,
     "metadata": {},
     "output_type": "execute_result"
    }
   ],
   "source": [
    "#a. Qual é a média do tamanho dos imóveis (metros)? R: 136.23 m²\n",
    "df['metragem'].mean()"
   ]
  },
  {
   "cell_type": "code",
   "execution_count": 330,
   "metadata": {},
   "outputs": [
    {
     "name": "stdout",
     "output_type": "stream",
     "text": [
      "Média de quartos: 2.4 quartos\n",
      "Média de banheiros: 2.1 banheiros\n",
      "Média de vagas: 2.1 vagas\n"
     ]
    }
   ],
   "source": [
    "#b. Qual a média do número de quartos, banheiros e vagas? R: 2.4 quartos, 2.1 banheiros e 2.1 vagas\n",
    "for comodo in ['quartos', 'banheiros', 'vagas']:\n",
    "    print(f'Média de {comodo}: {df[comodo].mean():.1f} {comodo}')"
   ]
  },
  {
   "cell_type": "code",
   "execution_count": 331,
   "metadata": {},
   "outputs": [
    {
     "name": "stdout",
     "output_type": "stream",
     "text": [
      "media do condominio: 23594.3\n",
      "media do iptu: 194.9\n"
     ]
    }
   ],
   "source": [
    "#c. Qual é o valor médio do IPTU e do condomínio? R: condominio: R$ 23.594,30 / IPTU: R$ 194,90\n",
    "for ip in ['condominio', 'iptu']:\n",
    "    print(f'media do {ip}: {df[ip].mean():.1f}')"
   ]
  },
  {
   "cell_type": "code",
   "execution_count": 332,
   "metadata": {},
   "outputs": [
    {
     "data": {
      "text/html": [
       "<div>\n",
       "<style scoped>\n",
       "    .dataframe tbody tr th:only-of-type {\n",
       "        vertical-align: middle;\n",
       "    }\n",
       "\n",
       "    .dataframe tbody tr th {\n",
       "        vertical-align: top;\n",
       "    }\n",
       "\n",
       "    .dataframe thead th {\n",
       "        text-align: right;\n",
       "    }\n",
       "</style>\n",
       "<table border=\"1\" class=\"dataframe\">\n",
       "  <thead>\n",
       "    <tr style=\"text-align: right;\">\n",
       "      <th></th>\n",
       "      <th>valor</th>\n",
       "      <th>metragem</th>\n",
       "    </tr>\n",
       "  </thead>\n",
       "  <tbody>\n",
       "    <tr>\n",
       "      <th>valor</th>\n",
       "      <td>1.000000</td>\n",
       "      <td>0.673175</td>\n",
       "    </tr>\n",
       "    <tr>\n",
       "      <th>metragem</th>\n",
       "      <td>0.673175</td>\n",
       "      <td>1.000000</td>\n",
       "    </tr>\n",
       "  </tbody>\n",
       "</table>\n",
       "</div>"
      ],
      "text/plain": [
       "             valor  metragem\n",
       "valor     1.000000  0.673175\n",
       "metragem  0.673175  1.000000"
      ]
     },
     "execution_count": 332,
     "metadata": {},
     "output_type": "execute_result"
    }
   ],
   "source": [
    "#d. Existe alguma correlação entre o valor do imóvel e o tamanho em metros quadrados? Sim, existe uma boa correlação\n",
    "df[['valor', 'metragem']].corr()"
   ]
  },
  {
   "cell_type": "code",
   "execution_count": 333,
   "metadata": {},
   "outputs": [
    {
     "data": {
      "text/html": [
       "<div>\n",
       "<style scoped>\n",
       "    .dataframe tbody tr th:only-of-type {\n",
       "        vertical-align: middle;\n",
       "    }\n",
       "\n",
       "    .dataframe tbody tr th {\n",
       "        vertical-align: top;\n",
       "    }\n",
       "\n",
       "    .dataframe thead th {\n",
       "        text-align: right;\n",
       "    }\n",
       "</style>\n",
       "<table border=\"1\" class=\"dataframe\">\n",
       "  <thead>\n",
       "    <tr style=\"text-align: right;\">\n",
       "      <th></th>\n",
       "      <th>metragem</th>\n",
       "      <th>iptu</th>\n",
       "    </tr>\n",
       "  </thead>\n",
       "  <tbody>\n",
       "    <tr>\n",
       "      <th>metragem</th>\n",
       "      <td>1.000000</td>\n",
       "      <td>0.202071</td>\n",
       "    </tr>\n",
       "    <tr>\n",
       "      <th>iptu</th>\n",
       "      <td>0.202071</td>\n",
       "      <td>1.000000</td>\n",
       "    </tr>\n",
       "  </tbody>\n",
       "</table>\n",
       "</div>"
      ],
      "text/plain": [
       "          metragem      iptu\n",
       "metragem  1.000000  0.202071\n",
       "iptu      0.202071  1.000000"
      ]
     },
     "execution_count": 333,
     "metadata": {},
     "output_type": "execute_result"
    }
   ],
   "source": [
    "#e. Imóveis maiores têm um IPTU mais alto? R: Sim, tendem a ser um pouco mais alto\n",
    "df[['metragem', 'iptu']].corr()"
   ]
  },
  {
   "cell_type": "code",
   "execution_count": 334,
   "metadata": {},
   "outputs": [
    {
     "data": {
      "text/html": [
       "<div>\n",
       "<style scoped>\n",
       "    .dataframe tbody tr th:only-of-type {\n",
       "        vertical-align: middle;\n",
       "    }\n",
       "\n",
       "    .dataframe tbody tr th {\n",
       "        vertical-align: top;\n",
       "    }\n",
       "\n",
       "    .dataframe thead th {\n",
       "        text-align: right;\n",
       "    }\n",
       "</style>\n",
       "<table border=\"1\" class=\"dataframe\">\n",
       "  <thead>\n",
       "    <tr style=\"text-align: right;\">\n",
       "      <th></th>\n",
       "      <th>vagas</th>\n",
       "      <th>valor</th>\n",
       "    </tr>\n",
       "  </thead>\n",
       "  <tbody>\n",
       "    <tr>\n",
       "      <th>vagas</th>\n",
       "      <td>1.00000</td>\n",
       "      <td>0.90537</td>\n",
       "    </tr>\n",
       "    <tr>\n",
       "      <th>valor</th>\n",
       "      <td>0.90537</td>\n",
       "      <td>1.00000</td>\n",
       "    </tr>\n",
       "  </tbody>\n",
       "</table>\n",
       "</div>"
      ],
      "text/plain": [
       "         vagas    valor\n",
       "vagas  1.00000  0.90537\n",
       "valor  0.90537  1.00000"
      ]
     },
     "execution_count": 334,
     "metadata": {},
     "output_type": "execute_result"
    }
   ],
   "source": [
    "#f. A quantidade de vagas de garagem está relacionada ao preço do imóvel? R: Sim, há uma forte correlação\n",
    "df[['vagas', 'valor']].corr()"
   ]
  },
  {
   "cell_type": "code",
   "execution_count": 335,
   "metadata": {},
   "outputs": [
    {
     "name": "stdout",
     "output_type": "stream",
     "text": [
      "\n",
      "Número de imóveis com metragem fora da média: 3\n",
      "Número de imóveis com valor fora da média: 2\n"
     ]
    }
   ],
   "source": [
    "# 1. Usando o desvio padrão\n",
    "# g. Existem imóveis com valores de metros ou preço muito acima ou abaixo da média? R: Há 3 metragens e 4 preços fora da média\n",
    "\n",
    "limite_superior_metragem = df['metragem'].mean() + 2 * df['metragem'].std()\n",
    "limite_inferior_metragem = df['metragem'].mean() - 2 * df['metragem'].std()\n",
    "\n",
    "limite_superior_valor = df['valor'].mean() + 2 * df['valor'].std()\n",
    "limite_inferior_valor = df['valor'].mean() - 2 * df['valor'].std()\n",
    "\n",
    "imoveis_metragem_outlier = df[(df['metragem'] > limite_superior_metragem) | (df['metragem'] < limite_inferior_metragem)]\n",
    "imoveis_valor_outlier = df[(df['valor'] > limite_superior_valor) | (df['valor'] < limite_inferior_valor)]\n",
    "\n",
    "print(f\"\\nNúmero de imóveis com metragem fora da média: {len(imoveis_metragem_outlier)}\")\n",
    "print(f\"Número de imóveis com valor fora da média: {len(imoveis_valor_outlier)}\")"
   ]
  },
  {
   "cell_type": "code",
   "execution_count": 336,
   "metadata": {},
   "outputs": [
    {
     "name": "stdout",
     "output_type": "stream",
     "text": [
      "Número de imóveis com metragem fora da média: 6\n",
      "Número de imóveis com valor fora da média: 8\n"
     ]
    }
   ],
   "source": [
    "# 2. Usando o intervalo interquartil\n",
    "# g. Existem imóveis com valores de metros ou preço muito acima ou abaixo da média? R: Há 6 metragens e 8 preços fora da média\n",
    "\n",
    "Q1_metragem = df['metragem'].quantile(0.25)\n",
    "Q3_metragem = df['metragem'].quantile(0.75)\n",
    "IQR_metragem = Q3_metragem - Q1_metragem\n",
    "\n",
    "limite_inferior_metragem = Q1_metragem - 1.5 * IQR_metragem\n",
    "limite_superior_metragem = Q3_metragem + 1.5 * IQR_metragem\n",
    "\n",
    "outliers_metragem = df[(df['metragem'] < limite_inferior_metragem) | (df['metragem'] > limite_superior_metragem)]\n",
    "\n",
    "\n",
    "Q1_valor = df['valor'].quantile(0.25)\n",
    "Q3_valor = df['valor'].quantile(0.75)\n",
    "IQR_valor = Q3_valor - Q1_valor\n",
    "\n",
    "limite_inferior_valor = Q1_valor - 1.5 * IQR_valor\n",
    "limite_superior_valor = Q3_valor + 1.5 * IQR_valor\n",
    "\n",
    "outliers_valor = df[(df['valor'] < limite_inferior_valor) | (df['valor'] > limite_superior_valor)]\n",
    "\n",
    "\n",
    "print(f\"Número de imóveis com metragem fora da média: {len(outliers_metragem)}\")\n",
    "print(f\"Número de imóveis com valor fora da média: {len(outliers_valor)}\")"
   ]
  }
 ],
 "metadata": {
  "kernelspec": {
   "display_name": "Python 3",
   "language": "python",
   "name": "python3"
  },
  "language_info": {
   "codemirror_mode": {
    "name": "ipython",
    "version": 3
   },
   "file_extension": ".py",
   "mimetype": "text/x-python",
   "name": "python",
   "nbconvert_exporter": "python",
   "pygments_lexer": "ipython3",
   "version": "3.12.1"
  }
 },
 "nbformat": 4,
 "nbformat_minor": 2
}
